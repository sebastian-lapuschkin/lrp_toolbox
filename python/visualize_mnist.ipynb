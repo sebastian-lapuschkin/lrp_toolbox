{
 "cells": [
  {
   "cell_type": "code",
   "execution_count": 1,
   "metadata": {},
   "outputs": [],
   "source": [
    "# Ignore caches to import module\n",
    "%load_ext autoreload\n",
    "%autoreload 2"
   ]
  },
  {
   "cell_type": "code",
   "execution_count": 2,
   "metadata": {},
   "outputs": [
    {
     "name": "stderr",
     "output_type": "stream",
     "text": [
      "/usr/local/lib/python2.7/dist-packages/h5py/__init__.py:36: FutureWarning: Conversion of the second argument of issubdtype from `float` to `np.floating` is deprecated. In future, it will be treated as `np.float64 == np.dtype(float).type`.\n",
      "  from ._conv import register_converters as _register_converters\n",
      "Using TensorFlow backend.\n"
     ]
    }
   ],
   "source": [
    "import os\n",
    "import keras\n",
    "from keras.layers import Conv2D, AvgPool2D, Activation, Flatten, Input\n",
    "from keras.models import Model\n",
    "from keras.datasets import mnist\n",
    "from keras.utils.np_utils import to_categorical\n",
    "from keras.models import load_model\n",
    "import tensorflow as tf\n",
    "import numpy as np\n",
    "import matplotlib.pyplot as plt\n",
    "from kerasmodel_io import read_kerasmodel"
   ]
  },
  {
   "cell_type": "code",
   "execution_count": 3,
   "metadata": {},
   "outputs": [],
   "source": [
    "(x_train, y_train), (x_test, y_test) = mnist.load_data()\n",
    "x_train = x_train[..., np.newaxis]\n",
    "x_train = x_train / 127.5 - 1.\n",
    "x_train = np.pad(x_train,((0,0),(2,2),(2,2),(0,0)), 'constant', constant_values = (-1.,))\n",
    "\n",
    "x_test = x_test[..., np.newaxis]\n",
    "x_test = x_test / 127.5 - 1.\n",
    "x_test = np.pad(x_test,((0,0),(2,2),(2,2),(0,0)), 'constant', constant_values = (-1.,))\n",
    "\n",
    "y_train = to_categorical(y_train)\n",
    "y_test = to_categorical(y_test)\n",
    "\n",
    "tensorlog_dir = './logs/tensorboard'\n",
    "if tf.gfile.Exists(tensorlog_dir):\n",
    "    tf.gfile.DeleteRecursively(tensorlog_dir)"
   ]
  },
  {
   "cell_type": "code",
   "execution_count": 4,
   "metadata": {},
   "outputs": [
    {
     "name": "stdout",
     "output_type": "stream",
     "text": [
      "10000/10000 [==============================] - 1s 146us/step\n",
      "('loss:', 0.49655898132324217)\n",
      "('acc:', 0.7925)\n"
     ]
    }
   ],
   "source": [
    "model = load_model('../models/lrp_demo_mnist.h5')\n",
    "loss, acc = model.evaluate(x_test, y_test)\n",
    "print(\"loss:\", loss)\n",
    "print(\"acc:\", acc)"
   ]
  },
  {
   "cell_type": "code",
   "execution_count": 5,
   "metadata": {},
   "outputs": [
    {
     "name": "stdout",
     "output_type": "stream",
     "text": [
      "_________________________________________________________________\n",
      "Layer (type)                 Output Shape              Param #   \n",
      "=================================================================\n",
      "input1 (InputLayer)          (None, 32, 32, 1)         0         \n",
      "_________________________________________________________________\n",
      "conv1 (Conv2D)               (None, 28, 28, 10)        260       \n",
      "_________________________________________________________________\n",
      "pool1 (AveragePooling2D)     (None, 14, 14, 10)        0         \n",
      "_________________________________________________________________\n",
      "conv2 (Conv2D)               (None, 10, 10, 25)        6275      \n",
      "_________________________________________________________________\n",
      "pool2 (AveragePooling2D)     (None, 5, 5, 25)          0         \n",
      "_________________________________________________________________\n",
      "conv3 (Conv2D)               (None, 2, 2, 100)         40100     \n",
      "_________________________________________________________________\n",
      "pool3 (AveragePooling2D)     (None, 1, 1, 100)         0         \n",
      "_________________________________________________________________\n",
      "conv4 (Conv2D)               (None, 1, 1, 10)          1010      \n",
      "_________________________________________________________________\n",
      "accuracy (Flatten)           (None, 10)                0         \n",
      "_________________________________________________________________\n",
      "activation1 (Activation)     (None, 10)                0         \n",
      "=================================================================\n",
      "Total params: 47,645\n",
      "Trainable params: 47,645\n",
      "Non-trainable params: 0\n",
      "_________________________________________________________________\n"
     ]
    }
   ],
   "source": [
    "model.summary()"
   ]
  },
  {
   "cell_type": "code",
   "execution_count": 6,
   "metadata": {},
   "outputs": [
    {
     "data": {
      "text/plain": [
       "[<modules.convolution.Convolution at 0x7fc9203e6710>,\n",
       " <modules.rect.Rect at 0x7fc8959534d0>,\n",
       " <modules.avgpool.AveragePool at 0x7fc8959531d0>,\n",
       " <modules.convolution.Convolution at 0x7fc895953550>,\n",
       " <modules.rect.Rect at 0x7fc8959535d0>,\n",
       " <modules.avgpool.AveragePool at 0x7fc895953a50>,\n",
       " <modules.convolution.Convolution at 0x7fc895953a10>,\n",
       " <modules.rect.Rect at 0x7fc895953210>,\n",
       " <modules.avgpool.AveragePool at 0x7fc8959532d0>,\n",
       " <modules.convolution.Convolution at 0x7fc895953610>,\n",
       " <modules.rect.Rect at 0x7fc895953710>,\n",
       " <modules.flatten.Flatten at 0x7fc920305290>,\n",
       " <modules.softmax.SoftMax at 0x7fc895953750>]"
      ]
     },
     "execution_count": 6,
     "metadata": {},
     "output_type": "execute_result"
    }
   ],
   "source": [
    "nn = read_kerasmodel(model)\n",
    "nn.modules"
   ]
  },
  {
   "cell_type": "code",
   "execution_count": 7,
   "metadata": {},
   "outputs": [
    {
     "name": "stdout",
     "output_type": "stream",
     "text": [
      "('acc of lrp model:', 0.7926)\n"
     ]
    }
   ],
   "source": [
    "acc_lrp_model = nn.evaluate(x_test, y_test)\n",
    "print(\"acc of lrp model:\", acc_lrp_model)"
   ]
  },
  {
   "cell_type": "code",
   "execution_count": 8,
   "metadata": {},
   "outputs": [
    {
     "data": {
      "image/png": "[encoded data removed]",
      "text/plain": [
       "<Figure size 432x288 with 1 Axes>"
      ]
     },
     "metadata": {},
     "output_type": "display_data"
    }
   ],
   "source": [
    "n = 10\n",
    "x = x_train[n]\n",
    "y = y_train[n]\n",
    "\n",
    "plt.imshow(x[...,0])\n",
    "plt.show()"
   ]
  },
  {
   "cell_type": "code",
   "execution_count": 9,
   "metadata": {},
   "outputs": [],
   "source": [
    "ypred = nn.forward(x[np.newaxis,...])"
   ]
  },
  {
   "cell_type": "code",
   "execution_count": 10,
   "metadata": {},
   "outputs": [],
   "source": [
    "labels = np.arange(10)"
   ]
  },
  {
   "cell_type": "code",
   "execution_count": 11,
   "metadata": {},
   "outputs": [
    {
     "name": "stdout",
     "output_type": "stream",
     "text": [
      "[0 1 2 3 4 5 6 7 8 9]\n",
      "[0.1 0.1 0.1 0.1 0.1 0.1 0.1 0.1 0.1 0.1]\n"
     ]
    },
    {
     "data": {
      "image/png": "[encoded data removed]",
      "text/plain": [
       "<Figure size 432x288 with 1 Axes>"
      ]
     },
     "metadata": {},
     "output_type": "display_data"
    }
   ],
   "source": [
    "ypred = nn.forward(x[np.newaxis,...])\n",
    "print(labels)\n",
    "print(ypred[0])\n",
    "fig, ax = plt.subplots()\n",
    "ax.bar(labels, ypred[0])\n",
    "ax.xaxis.set_ticks(labels)\n",
    "plt.show()"
   ]
  },
  {
   "cell_type": "code",
   "execution_count": 12,
   "metadata": {},
   "outputs": [
    {
     "name": "stdout",
     "output_type": "stream",
     "text": [
      "('Label:', 3)\n",
      "('Prediction:', 0)\n"
     ]
    }
   ],
   "source": [
    "print(\"Label:\", np.argmax(y))\n",
    "print(\"Prediction:\", np.argmax(ypred))"
   ]
  },
  {
   "cell_type": "code",
   "execution_count": 13,
   "metadata": {},
   "outputs": [],
   "source": [
    "R = nn.lrp(ypred, 'epsilon', 1)"
   ]
  },
  {
   "cell_type": "code",
   "execution_count": 14,
   "metadata": {},
   "outputs": [
    {
     "data": {
      "image/png": "[encoded data removed]",
      "text/plain": [
       "<Figure size 432x288 with 1 Axes>"
      ]
     },
     "metadata": {},
     "output_type": "display_data"
    }
   ],
   "source": [
    "plt.imshow(R[0,...,0], cmap='seismic')\n",
    "plt.show()"
   ]
  }
 ],
 "metadata": {
  "kernelspec": {
   "display_name": "Python 2",
   "language": "python",
   "name": "python2"
  },
  "language_info": {
   "codemirror_mode": {
    "name": "ipython",
    "version": 2
   },
   "file_extension": ".py",
   "mimetype": "text/x-python",
   "name": "python",
   "nbconvert_exporter": "python",
   "pygments_lexer": "ipython2",
   "version": "2.7.12"
  }
 },
 "nbformat": 4,
 "nbformat_minor": 2
}
